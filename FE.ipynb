{
 "cells": [
  {
   "cell_type": "markdown",
   "metadata": {},
   "source": [
    "## In this Notebook, I will prepare the app to be executed at the end of the script"
   ]
  },
  {
   "cell_type": "markdown",
   "metadata": {},
   "source": [
    "# 1. Import Libraries"
   ]
  },
  {
   "cell_type": "code",
   "execution_count": 1,
   "metadata": {},
   "outputs": [],
   "source": [
    "#Import libraries required\n",
    "import os\n",
    "import pandas as pd\n",
    "import numpy as np\n",
    "import pickle \n",
    "import streamlit as st \n",
    "import matplotlib.pyplot as plt\n",
    "from PIL import Image\n",
    "import requests\n",
    "from bs4 import BeautifulSoup"
   ]
  },
  {
   "cell_type": "code",
   "execution_count": 2,
   "metadata": {},
   "outputs": [
    {
     "name": "stdout",
     "output_type": "stream",
     "text": [
      "Requirement already satisfied: beautifulsoup4 in /home/dsc/anaconda3/lib/python3.7/site-packages (4.6.3)\n",
      "Requirement already satisfied: lxml in /home/dsc/anaconda3/lib/python3.7/site-packages (4.2.5)\n",
      "Requirement already satisfied: requests in /home/dsc/anaconda3/lib/python3.7/site-packages (2.25.1)\n",
      "Requirement already satisfied: idna<3,>=2.5 in /home/dsc/anaconda3/lib/python3.7/site-packages (from requests) (2.8)\n",
      "Requirement already satisfied: chardet<5,>=3.0.2 in /home/dsc/anaconda3/lib/python3.7/site-packages (from requests) (3.0.4)\n",
      "Requirement already satisfied: certifi>=2017.4.17 in /home/dsc/anaconda3/lib/python3.7/site-packages (from requests) (2021.5.30)\n",
      "Requirement already satisfied: urllib3<1.27,>=1.21.1 in /home/dsc/anaconda3/lib/python3.7/site-packages (from requests) (1.24.1)\n"
     ]
    }
   ],
   "source": [
    "#Install packs needed\n",
    "! pip install beautifulsoup4\n",
    "! pip install lxml\n",
    "! pip install requests"
   ]
  },
  {
   "cell_type": "code",
   "execution_count": 3,
   "metadata": {},
   "outputs": [],
   "source": [
    "#Web scrap page desired\n",
    "r = requests.get('https://aqicn.org/city/spain/catalunya/tarragona-bonavista/es/')\n",
    "soup = BeautifulSoup(r.text, 'lxml')"
   ]
  },
  {
   "cell_type": "code",
   "execution_count": 4,
   "metadata": {},
   "outputs": [],
   "source": [
    "# Let's import minimum values\n",
    "f_min = soup.find_all('td', class_=\"tdmin\")\n",
    "pm25_min = (f_min[1].text)\n",
    "pm10_min = (f_min[2].text)\n",
    "NO2_min = (f_min[4].text)\n",
    "t_min = (f_min[7].text)\n",
    "p_min = (f_min[8].text)\n",
    "v_min = (f_min[10].text)\n",
    "features_min = [pm25_min,pm10_min,NO2_min,t_min,p_min,v_min]\n",
    "def stringToFloat(a):\n",
    "\n",
    "    return list(map(float, a))\n",
    "\n",
    "a = stringToFloat(features_min)"
   ]
  },
  {
   "cell_type": "code",
   "execution_count": 5,
   "metadata": {},
   "outputs": [],
   "source": [
    "# Let's import maximum values\n",
    "f_max = soup.find_all('td', class_=\"tdmax\")\n",
    "pm25_max = (f_max[1].text)\n",
    "pm10_max = (f_max[2].text)\n",
    "NO2_max = (f_max[4].text)\n",
    "t_max = (f_max[7].text)\n",
    "p_max = (f_max[8].text)\n",
    "v_max = (f_max[10].text)\n",
    "features_max = [pm25_max,pm10_max,NO2_max,t_max,p_max,v_max]\n",
    "def stringToFloat(a):\n",
    "\n",
    "    return list(map(float, a))\n",
    "\n",
    "b = stringToFloat(features_max)"
   ]
  },
  {
   "cell_type": "code",
   "execution_count": 6,
   "metadata": {},
   "outputs": [
    {
     "name": "stdout",
     "output_type": "stream",
     "text": [
      "[30.0, 15.0, 1.0, 20.0, 1012.0, 0.0]\n",
      "[38.0, 17.0, 6.0, 30.0, 1019.0, 6.0]\n"
     ]
    }
   ],
   "source": [
    "print(a)\n",
    "print(b)"
   ]
  },
  {
   "cell_type": "code",
   "execution_count": 7,
   "metadata": {},
   "outputs": [
    {
     "name": "stdout",
     "output_type": "stream",
     "text": [
      "[34.0, 16.0, 3.5, 25.0, 1015.5, 3.0]\n"
     ]
    }
   ],
   "source": [
    "c = [(a[0]+b[0])/2,(a[1]+b[1])/2,(a[2]+b[2])/2,(a[3]+b[3])/2,(a[4]+b[4])/2,(a[5]+b[5])/2]\n",
    "print(c)"
   ]
  },
  {
   "cell_type": "code",
   "execution_count": 8,
   "metadata": {},
   "outputs": [],
   "source": [
    "pickle_in = open('FrontEnd_docs_related/aplication.pkl', 'rb') \n",
    "pipe_svc = pickle.load(pickle_in) "
   ]
  },
  {
   "cell_type": "code",
   "execution_count": 9,
   "metadata": {},
   "outputs": [
    {
     "name": "stderr",
     "output_type": "stream",
     "text": [
      "2021-07-18 23:47:44.319 \n",
      "  \u001b[33m\u001b[1mWarning:\u001b[0m to view this Streamlit app on a browser, run it with the following\n",
      "  command:\n",
      "\n",
      "    streamlit run /home/dsc/anaconda3/lib/python3.7/site-packages/ipykernel_launcher.py [ARGUMENTS]\n"
     ]
    }
   ],
   "source": [
    "#Let's create a FrontEnd where the user can have an overview about Evolution of the 4 main Pollutants from period 2010-2020, and Predict if PM2.5 system Alert and meausures involved will be activated tomorrow. \n",
    "st.title('Pollutant Evolution and Preventive Alert System')\n",
    "st.write('This web app allows you to know Pollutant Evolution from 2010 to 2020 and PM2.5 24h prediction as Preventive Sytem Alert')\n",
    "\n",
    "\n",
    "\n",
    "st.header('Pollutant Evolution')\n",
    "st.write('This section allows you to know Pollutant Evolution from 2010 to 2020 from pollutant selected')\n",
    "st.text('Please, select Pollutant desired in side to see its Evolution graph during last 10 years')\n",
    "\n",
    "st.sidebar.title(\"Pollutant\")\n",
    "select = st.sidebar.selectbox('Select Pollutant',(['PM2.5'],['PM10'],['NO2'],['NOx'],['NO'],['H2S'],['SO2']))\n",
    "\n",
    "                              \n",
    "if select == ['PM2.5']:\n",
    "        st.image(Image.open('FrontEnd_docs_related/PM2.5.jpg'))\n",
    "        st.text('PM2.5 Evolution: Downward trend in average annual values obtained for pollutant PM2,5 during last years.') \n",
    "        st.text('The worst results were registered in 2015')\n",
    "elif select == ['PM10']:\n",
    "        st.image(Image.open('FrontEnd_docs_related/PM10.jpg'))\n",
    "        st.text('PM10 Evolution: Stable results with an upward trend in average annual values obtained for pollutant PM10 in recent years.')\n",
    "        st.text('The improvement in 2020 was due to the influence of the Covid-19 pandemic')\n",
    "elif select == ['H2S']:\n",
    "        st.image(Image.open('FrontEnd_docs_related/H2S.jpg'))\n",
    "        st.text('H2S Evolution: Downward trend in average annual values obtained for pollutant H2S during last years.')\n",
    "        st.text('The worst results were registered in 2015')\n",
    "elif select == ['NO']:\n",
    "        st.image(Image.open('FrontEnd_docs_related/NO.jpg'))\n",
    "        st.text('NO Evolution: Stable results got for pollutant NO during last years')\n",
    "elif select == ['NOx']:\n",
    "        st.image(Image.open('FrontEnd_docs_related/NOx.jpg'))\n",
    "        st.text('NOx Evolution: Stable results got for pollutant NOx during last years')\n",
    "elif select == ['SO2']:\n",
    "        st.image(Image.open('FrontEnd_docs_related/SO2.jpg'))\n",
    "        st.text('SO2 Evolution: Stable results with an upward trend in average annual values obtained for pollutant SO2 in recent years.')\n",
    "        st.text('The improvement in 2020 was due to the influence of the Covid-19 pandemic')\n",
    "else:\n",
    "        st.image(Image.open('FrontEnd_docs_related/NO2.jpg'))\n",
    "        st.text('NO2 Evolution: Stable results got for pollutant NO2 during last years')\n",
    "\n",
    "    \n",
    "        \n",
    "\n",
    "st.header('Preventive System PM2.5 Alert')\n",
    "st.write('This section allows you to predict PM2.5 24h forecast by automatically data requiered.')\n",
    "st.text('Please, select data impute method to predict PM2.5 24h forecast')\n",
    "\n",
    "st.sidebar.title(\"Predict impute method\")\n",
    "select1 = st.sidebar.selectbox('Select method',(['Authomatic'],['Manual']))\n",
    "\n",
    "st.text('Preventive Sytem Alert is Activated when:')\n",
    "st.text('     - average PM2,5 today feature exceeed threshold 25 micrograms/m3')\n",
    "st.text('     - prediction at 24h does not improve the results')\n",
    "\n",
    "\n",
    "\n",
    "if select1 == ['Manual']:\n",
    "    PM25 =  st.number_input(\"PM2.5 (micrograms/m3):\")\n",
    "    NO2 = st.number_input(\"NO2 (micrograms/m3):\")\n",
    "    PM10 =  st.number_input(\"PM10 (micrograms/m3):\")\n",
    "    Pressio_atmosferica = st.number_input(\"Atmospheric pressure (hPa):\")\n",
    "    Temperatura = st.number_input(\"Temperature (ºC):\")\n",
    "    Velocitat = st.number_input(\"Wind spped (m/s):\")\n",
    "        \n",
    "    features = {'PM2.5': PM25, 'PM10': PM10,'NO2':NO2,'Pressió atmosfèrica': Pressio_atmosferica,'Temperatura': Temperatura,'Velocitat del vent a 10 m (esc.)': Velocitat}\n",
    "    X_user  = pd.DataFrame([features])\n",
    "        \n",
    "    submit =st.button('Predict')\n",
    "        \n",
    "    if submit:   \n",
    "        \n",
    "        prediction = pipe_svc.predict(X_user)\n",
    "            \n",
    "        if prediction == 1 and PM25>=20:\n",
    "            st.write('Alert activated')\n",
    "            st.text('Countermeasures to be followed by:')\n",
    "            st.write(' - Citizen awareness:')\n",
    "            st.write('        -To reduce displacements with a private vehicle (use Public transport, trips on foot or by bicycle)')\n",
    "            st.write(' - Municipalities city hall:')\n",
    "            st.write('        -Local media diffusion campaigns to explain the warning situation')\n",
    "            st.write('        -Do not allow the burning of vegetation and enhance the management of plant residues, such as crushing or collection for its composting')\n",
    "            st.write('        -Suspended construction work')\n",
    "            st.write(' - Industry:')\n",
    "            st.write('        -Do not perform processes such as start up or set up not indispensable, if they can be delayed')\n",
    "        else:\n",
    "            st.write('No Alert')\n",
    "        \n",
    "        \n",
    "        \n",
    "        \n",
    "else:\n",
    "    \n",
    "    features2 = {'PM2.5': c[0], 'PM10': c[1],'NO2':c[2],'Pressió atmosfèrica': c[4],'Temperatura': c[3],'Velocitat del vent a 10 m (esc.)': c[5]}    \n",
    "    X_user1  = pd.DataFrame([features2])\n",
    "    st.table([features2])  \n",
    "\n",
    "    submit =st.button('Predict')\n",
    "\n",
    "    if submit:   \n",
    "        \n",
    "        prediction = pipe_svc.predict(X_user1)\n",
    "            \n",
    "        if prediction == 1 and a[0]>=20:\n",
    "            st.write('Alert activated')\n",
    "            st.text('Countermeasures to be followed by:')\n",
    "            st.write(' - Citizen awareness:')\n",
    "            st.write('        -To reduce displacements with a private vehicle (use Public transport, trips on foot or by bicycle)')\n",
    "            st.write(' - Municipalities city hall:')\n",
    "            st.write('        -Local media diffusion campaigns to explain the warning situation')\n",
    "            st.write('        -Do not allow the burning of vegetation and enhance the management of plant residues, such as crushing or collection for its composting')\n",
    "            st.write('        -Suspended construction work')\n",
    "            st.write(' - Industry:')\n",
    "            st.write('        -Do not perform processes such as start up or set up not indispensable, if they can be delayed')\n",
    "        else:\n",
    "            st.write('No Alert')"
   ]
  },
  {
   "cell_type": "code",
   "execution_count": 10,
   "metadata": {},
   "outputs": [
    {
     "name": "stdout",
     "output_type": "stream",
     "text": [
      "[NbConvertApp] Converting notebook FE.ipynb to script\n",
      "[NbConvertApp] Writing 7982 bytes to FE.py\n"
     ]
    }
   ],
   "source": [
    "!jupyter nbconvert   --to script FE.ipynb\n",
    "!awk '!/ipython/' FE.py >  temp.py && mv temp.py app.py && rm FE.py"
   ]
  },
  {
   "cell_type": "code",
   "execution_count": 11,
   "metadata": {},
   "outputs": [
    {
     "name": "stdout",
     "output_type": "stream",
     "text": [
      "\u001b[0m\n",
      "\u001b[34m\u001b[1m  You can now view your Streamlit app in your browser.\u001b[0m\n",
      "\u001b[0m\n",
      "\u001b[34m  Local URL: \u001b[0m\u001b[1mhttp://localhost:8501\u001b[0m\n",
      "\u001b[34m  Network URL: \u001b[0m\u001b[1mhttp://10.0.2.15:8501\u001b[0m\n",
      "\u001b[0m\n",
      "[30.0, 15.0, 1.0, 20.0, 1012.0, 0.0]\n",
      "[38.0, 17.0, 6.0, 30.0, 1019.0, 6.0]\n",
      "[34.0, 16.0, 3.5, 25.0, 1015.5, 3.0]\n",
      "[30.0, 15.0, 1.0, 20.0, 1012.0, 0.0]\n",
      "[38.0, 17.0, 6.0, 30.0, 1019.0, 6.0]\n",
      "[34.0, 16.0, 3.5, 25.0, 1015.5, 3.0]\n",
      "[30.0, 15.0, 1.0, 20.0, 1012.0, 0.0]\n",
      "[38.0, 17.0, 6.0, 30.0, 1019.0, 6.0]\n",
      "[34.0, 16.0, 3.5, 25.0, 1015.5, 3.0]\n"
     ]
    }
   ],
   "source": [
    "! streamlit run app.py"
   ]
  },
  {
   "cell_type": "code",
   "execution_count": null,
   "metadata": {},
   "outputs": [],
   "source": []
  }
 ],
 "metadata": {
  "kernelspec": {
   "display_name": "Python 3 (ipykernel)",
   "language": "python",
   "name": "python3"
  },
  "language_info": {
   "codemirror_mode": {
    "name": "ipython",
    "version": 3
   },
   "file_extension": ".py",
   "mimetype": "text/x-python",
   "name": "python",
   "nbconvert_exporter": "python",
   "pygments_lexer": "ipython3",
   "version": "3.7.10"
  }
 },
 "nbformat": 4,
 "nbformat_minor": 2
}
