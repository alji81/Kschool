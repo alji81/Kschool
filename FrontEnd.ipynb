{
 "cells": [
  {
   "cell_type": "markdown",
   "metadata": {},
   "source": [
    "## In this Notebook, I will prepare the app to be executed at the end of the script"
   ]
  },
  {
   "cell_type": "markdown",
   "metadata": {},
   "source": [
    "# 1. Import Libraries"
   ]
  },
  {
   "cell_type": "code",
   "execution_count": 1,
   "metadata": {},
   "outputs": [],
   "source": [
    "import pandas as pd \n",
    "import pickle \n",
    "import streamlit as st \n",
    "import matplotlib.pyplot as plt\n",
    "from PIL import Image"
   ]
  },
  {
   "cell_type": "markdown",
   "metadata": {},
   "source": [
    "# 2. Import Model saved"
   ]
  },
  {
   "cell_type": "code",
   "execution_count": 2,
   "metadata": {},
   "outputs": [],
   "source": [
    "pickle_in = open('FrontEnd_docs_related/aplication.pkl', 'rb') \n",
    "pipe_svc = pickle.load(pickle_in) "
   ]
  },
  {
   "cell_type": "code",
   "execution_count": 3,
   "metadata": {},
   "outputs": [
    {
     "name": "stderr",
     "output_type": "stream",
     "text": [
      "2021-07-15 19:44:41.637 \n",
      "  \u001b[33m\u001b[1mWarning:\u001b[0m to view this Streamlit app on a browser, run it with the following\n",
      "  command:\n",
      "\n",
      "    streamlit run /home/dsc/anaconda3/lib/python3.7/site-packages/ipykernel_launcher.py [ARGUMENTS]\n"
     ]
    }
   ],
   "source": [
    "#Let's create a FrontEnd where the user can have an overview about Evolution of the 4 main Pollutants from period 2010-2020, and Predict if PM2.5 system Alert and meausures involved will be activated tomorrow. \n",
    "st.title('Pollutant Evolution and Preventive Alert System')\n",
    "#st.write('This web app allows you to know Pollutant Evolution from 2010 to 2020 and PM2.5 24h prediction as Preventive Sytem Alert')\n",
    "\n",
    "\n",
    "\n",
    "st.header('Pollutant Evolution')\n",
    "st.write('This web app allows you to know Pollutant Evolution from 2010 to 2020 from pollutant selected')\n",
    "\n",
    "st.sidebar.title(\"Pollutant\")\n",
    "select = st.sidebar.selectbox('Select Pollutant',(['PM2.5'],['PM10'],['NO2'],['NOx'],['NO'],['H2S'],['SO2']))\n",
    "\n",
    "#submit2 =st.button('Graph')\n",
    "\n",
    "#if submit2:\n",
    "                              \n",
    "if select == ['PM2.5']:\n",
    "        st.image(Image.open('FrontEnd_docs_related/PM2.5.jpg'))\n",
    "        st.write('Downward trend in average annual values obtained for pollutant PM2,5 during last years. The worst results were registered in 2015')\n",
    "elif select == ['PM10']:\n",
    "        st.image(Image.open('FrontEnd_docs_related/PM10.jpg'))\n",
    "        st.write('Stable results with an upward trend in average annual values obtained for pollutant PM10 in recent years. The improvement in 2020 was due to the influence of the Covid-19 pandemic')\n",
    "elif select == ['H2S']:\n",
    "        st.image(Image.open('FrontEnd_docs_related/H2S.jpg'))\n",
    "        st.write('Downward trend in average annual values obtained for pollutant H2S during last years. The worst results were registered in 2015')\n",
    "elif select == ['NO']:\n",
    "        st.image(Image.open('FrontEnd_docs_related/NO.jpg'))\n",
    "        st.write('Stable results got for pollutant NO during last years')\n",
    "elif select == ['NOx']:\n",
    "        st.image(Image.open('FrontEnd_docs_related/NOx.jpg'))\n",
    "        st.write('Stable results got for pollutant NOx during last years')\n",
    "elif select == ['SO2']:\n",
    "        st.image(Image.open('FrontEnd_docs_related/SO2.jpg'))\n",
    "        st.write('Stable results with an upward trend in average annual values obtained for pollutant SO2 in recent years. The improvement in 2020 was due to the influence of the Covid-19 pandemic')\n",
    "else:\n",
    "        st.image(Image.open('FrontEnd_docs_related/NO2.jpg'))\n",
    "        st.write('Stable results got for pollutant NO2 during last years')\n",
    "\n",
    "    \n",
    "        \n",
    "\n",
    "st.header('Preventive System PM2.5 Alert')\n",
    "st.write('This web app allows you to predict PM2.5 24h forecast. Preventive Sytem Alert is Activated when:')\n",
    "st.write('     - average PM2,5 today feature exceeed threshold 25 micrograms/m3')\n",
    "st.write('     - prediction at 24h does not improve the results')\n",
    "\n",
    "PM25 =  st.number_input(\"PM2.5 (micrograms/m3):\")\n",
    "NO2 = st.number_input(\"NO2 (micrograms/m3):\")\n",
    "PM10 =  st.number_input(\"PM10 (micrograms/m3):\")\n",
    "Pressio_atmosferica = st.number_input(\"Atmospheric pressure (hPa):\")\n",
    "Temperatura = st.number_input(\"Temperature (ºC):\")\n",
    "Velocitat = st.number_input(\"Wind spped (m/s):\")\n",
    "\n",
    "submit =st.button('Predict')\n",
    "\n",
    "\n",
    "features = {'PM2.5': PM25, 'PM10': PM10,'NO2':NO2,'Pressió atmosfèrica': Pressio_atmosferica,'Temperatura': Temperatura,'Velocitat del vent a 10 m (esc.)': Velocitat}\n",
    "X_user  = pd.DataFrame([features])\n",
    "#st.table(X_user)  \n",
    "\n",
    "\n",
    "\n",
    "if submit:   \n",
    "        \n",
    "        prediction = pipe_svc.predict(X_user)\n",
    "            \n",
    "        if prediction == 1 and PM25>=20:\n",
    "            st.write('Alert activated')\n",
    "            st.text('Countermeasures to be followed by:')\n",
    "            st.write(' - Citizen awareness:')\n",
    "            st.write('        -To reduce displacements with a private vehicle (use Public transport, trips on foot or by bicycle)')\n",
    "            st.write(' - Municipalities city hall:')\n",
    "            st.write('        -Local media diffusion campaigns to explain the warning situation')\n",
    "            st.write('        -Do not allow the burning of vegetation and enhance the management of plant residues, such as crushing or collection for its composting')\n",
    "            st.write('        -Suspended construction work')\n",
    "            st.write(' - Industry:')\n",
    "            st.write('        -Do not perform processes such as start up or set up not indispensable, if they can be delayed')\n",
    "        else:\n",
    "            st.write('No Alert')"
   ]
  },
  {
   "cell_type": "code",
   "execution_count": 5,
   "metadata": {},
   "outputs": [
    {
     "name": "stdout",
     "output_type": "stream",
     "text": [
      "[NbConvertApp] Converting notebook FrontEnd.ipynb to script\n",
      "[NbConvertApp] Writing 4837 bytes to FrontEnd.py\n"
     ]
    }
   ],
   "source": [
    "!jupyter nbconvert   --to script FrontEnd.ipynb\n",
    "!awk '!/ipython/' FrontEnd.py >  temp.py && mv temp.py app.py && rm FrontEnd.py"
   ]
  },
  {
   "cell_type": "code",
   "execution_count": 6,
   "metadata": {},
   "outputs": [
    {
     "name": "stdout",
     "output_type": "stream",
     "text": [
      "\u001b[0m\n",
      "\u001b[34m\u001b[1m  You can now view your Streamlit app in your browser.\u001b[0m\n",
      "\u001b[0m\n",
      "\u001b[34m  Local URL: \u001b[0m\u001b[1mhttp://localhost:8501\u001b[0m\n",
      "\u001b[34m  Network URL: \u001b[0m\u001b[1mhttp://10.0.2.15:8501\u001b[0m\n",
      "\u001b[0m\n",
      "\n",
      "  \u001b[34m\u001b[1mA new version of Streamlit is available.\u001b[0m\n",
      "\n",
      "  See what's new at https://discuss.streamlit.io/c/announcements\n",
      "\n",
      "  Enter the following command to upgrade:\n",
      "  \u001b[34m$\u001b[0m \u001b[1mpip install streamlit --upgrade\u001b[0m\n",
      "\u001b[0m\n"
     ]
    }
   ],
   "source": [
    "! streamlit run app.py"
   ]
  },
  {
   "cell_type": "code",
   "execution_count": null,
   "metadata": {},
   "outputs": [],
   "source": []
  }
 ],
 "metadata": {
  "kernelspec": {
   "display_name": "Python 3 (ipykernel)",
   "language": "python",
   "name": "python3"
  },
  "language_info": {
   "codemirror_mode": {
    "name": "ipython",
    "version": 3
   },
   "file_extension": ".py",
   "mimetype": "text/x-python",
   "name": "python",
   "nbconvert_exporter": "python",
   "pygments_lexer": "ipython3",
   "version": "3.7.10"
  }
 },
 "nbformat": 4,
 "nbformat_minor": 2
}
