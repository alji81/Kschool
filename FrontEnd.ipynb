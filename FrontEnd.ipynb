{
 "cells": [
  {
   "cell_type": "markdown",
   "metadata": {},
   "source": [
    "## In this Notebook, I will prepare the app to be executed at the end of the script"
   ]
  },
  {
   "cell_type": "markdown",
   "metadata": {},
   "source": [
    "# 1. Import Libraries"
   ]
  },
  {
   "cell_type": "code",
   "execution_count": 1,
   "metadata": {},
   "outputs": [],
   "source": [
    "import pandas as pd \n",
    "import pickle \n",
    "import streamlit as st \n",
    "import matplotlib.pyplot as plt\n",
    "from PIL import Image"
   ]
  },
  {
   "cell_type": "markdown",
   "metadata": {},
   "source": [
    "# 2. Import Model saved"
   ]
  },
  {
   "cell_type": "code",
   "execution_count": 2,
   "metadata": {},
   "outputs": [],
   "source": [
    "pickle_in = open('FrontEnd_docs_related/aplication.pkl', 'rb') \n",
    "pipe_svc = pickle.load(pickle_in) "
   ]
  },
  {
   "cell_type": "code",
   "execution_count": 3,
   "metadata": {},
   "outputs": [
    {
     "name": "stderr",
     "output_type": "stream",
     "text": [
      "2021-07-13 22:12:59.434 \n",
      "  \u001b[33m\u001b[1mWarning:\u001b[0m to view this Streamlit app on a browser, run it with the following\n",
      "  command:\n",
      "\n",
      "    streamlit run /home/dsc/anaconda3/lib/python3.7/site-packages/ipykernel_launcher.py [ARGUMENTS]\n"
     ]
    }
   ],
   "source": [
    "#Let's create a FrontEnd where the user can have an overview about Evolution of the 4 main Pollutants from period 2010-2020, and Predict if PM2.5 system Alert and meausures involved will be activated tomorrow. \n",
    "st.title('Pollution Evolution and Preventive Alert System')\n",
    "st.write('This web app allows you to know Pollutant Evolution from 2010 to 2020 and PM2.5 24h prediction as Preventive Sytem Alert')\n",
    "\n",
    "\n",
    "st.header('Pollutant Evolution')\n",
    "\n",
    "st.sidebar.title(\"Pollutant\")\n",
    "select = st.sidebar.selectbox('Select Pollutant',(['PM2.5'],['PM10'],['NO2'],['NOx'],['NO'],['H2S'],['SO2']))\n",
    "\n",
    "submit2 =st.button('Graph')\n",
    "\n",
    "if submit2:\n",
    "                              \n",
    "    if select == ['PM2.5']:\n",
    "        st.image(Image.open('FrontEnd_docs_related/PM2.5.jpg'))\n",
    "    elif select == ['PM10']:\n",
    "        st.image(Image.open('FrontEnd_docs_related/PM10.jpg'))\n",
    "    elif select == ['H2S']:\n",
    "        st.image(Image.open('FrontEnd_docs_related/H2S.jpg'))\n",
    "    elif select == ['NO']:\n",
    "        st.image(Image.open('FrontEnd_docs_related/NO.jpg'))\n",
    "    elif select == ['NOx']:\n",
    "        st.image(Image.open('FrontEnd_docs_related/NOx.jpg'))\n",
    "    elif select == ['SO2']:\n",
    "        st.image(Image.open('FrontEnd_docs_related/SO2.jpg'))\n",
    "    else:\n",
    "        st.image(Image.open('FrontEnd_docs_related/NO2.jpg'))\n",
    "\n",
    "    \n",
    "        \n",
    "\n",
    "st.header('Preventive System PM2.5 Alert')\n",
    "\n",
    "PM25 =  st.number_input(\"PM2.5:\")\n",
    "NO2 = st.number_input(\"NO2 :\")\n",
    "PM10 =  st.number_input(\"PM10:\")\n",
    "Pressio_atmosferica = st.number_input(\"Pressio atmosferica:\")\n",
    "Temperatura = st.number_input(\"Temperatura:\")\n",
    "Velocitat = st.number_input(\"Velocitat del vent a 10 m (esc.):\")\n",
    "\n",
    "submit =st.button('Predict')\n",
    "\n",
    "\n",
    "features = {'PM2.5': PM25, 'PM10': PM10,'NO2':NO2,'Pressió atmosfèrica': Pressio_atmosferica,'Temperatura': Temperatura,'Velocitat del vent a 10 m (esc.)': Velocitat}\n",
    "X_user  = pd.DataFrame([features])\n",
    "st.table(X_user)  \n",
    "\n",
    "\n",
    "\n",
    "if submit:   \n",
    "        \n",
    "        prediction = pipe_svc.predict(X_user)\n",
    "            \n",
    "        if prediction == 1 and PM25>=20:\n",
    "            st.write('Alert activated')\n",
    "            st.text('Pondre algo mas')\n",
    "        else:\n",
    "            st.write('No Alert')"
   ]
  },
  {
   "cell_type": "code",
   "execution_count": 4,
   "metadata": {},
   "outputs": [
    {
     "name": "stdout",
     "output_type": "stream",
     "text": [
      "[NbConvertApp] Converting notebook FrontEnd.ipynb to script\n",
      "[NbConvertApp] Writing 2792 bytes to FrontEnd.py\n"
     ]
    }
   ],
   "source": [
    "!jupyter nbconvert   --to script FrontEnd.ipynb\n",
    "!awk '!/ipython/' FrontEnd.py >  temp.py && mv temp.py app.py && rm FrontEnd.py"
   ]
  },
  {
   "cell_type": "code",
   "execution_count": 5,
   "metadata": {},
   "outputs": [
    {
     "name": "stdout",
     "output_type": "stream",
     "text": [
      "\u001b[0m\n",
      "\u001b[34m\u001b[1m  You can now view your Streamlit app in your browser.\u001b[0m\n",
      "\u001b[0m\n",
      "\u001b[34m  Local URL: \u001b[0m\u001b[1mhttp://localhost:8501\u001b[0m\n",
      "\u001b[34m  Network URL: \u001b[0m\u001b[1mhttp://10.0.2.15:8501\u001b[0m\n",
      "\u001b[0m\n"
     ]
    }
   ],
   "source": [
    "! streamlit run app.py"
   ]
  },
  {
   "cell_type": "code",
   "execution_count": null,
   "metadata": {},
   "outputs": [],
   "source": []
  }
 ],
 "metadata": {
  "kernelspec": {
   "display_name": "Python 3 (ipykernel)",
   "language": "python",
   "name": "python3"
  },
  "language_info": {
   "codemirror_mode": {
    "name": "ipython",
    "version": 3
   },
   "file_extension": ".py",
   "mimetype": "text/x-python",
   "name": "python",
   "nbconvert_exporter": "python",
   "pygments_lexer": "ipython3",
   "version": "3.7.10"
  }
 },
 "nbformat": 4,
 "nbformat_minor": 2
}
